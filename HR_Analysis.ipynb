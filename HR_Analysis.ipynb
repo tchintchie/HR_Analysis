{
  "nbformat": 4,
  "nbformat_minor": 0,
  "metadata": {
    "colab": {
      "name": "HR_Analysis.ipynb",
      "provenance": [],
      "collapsed_sections": [],
      "toc_visible": true,
      "authorship_tag": "ABX9TyN4ukpQP2V32ZhLYXP+5ZDO",
      "include_colab_link": true
    },
    "kernelspec": {
      "name": "python3",
      "display_name": "Python 3"
    }
  },
  "cells": [
    {
      "cell_type": "markdown",
      "metadata": {
        "id": "view-in-github",
        "colab_type": "text"
      },
      "source": [
        "<a href=\"https://colab.research.google.com/github/tchintchie/HR_Analysis/blob/master/HR_Analysis.ipynb\" target=\"_parent\"><img src=\"https://colab.research.google.com/assets/colab-badge.svg\" alt=\"Open In Colab\"/></a>"
      ]
    },
    {
      "cell_type": "markdown",
      "metadata": {
        "id": "MU0Gbtoi66F5",
        "colab_type": "text"
      },
      "source": [
        "# HR Analysis\n",
        "\n",
        "The HR department has tasked you with building a prediction model.\n",
        "You are supposed to figure out if an employee is going to leave or no.\n",
        "\n",
        "Below are two files, one for training and the other for testing.\n",
        "The data is nicely formatted, with no missing values, no outliers... can be used as-is but you can wrangle it if you like.\n",
        "\n",
        "We are predicting the 'left' column, 1 meaning yes and 0 meaning no.\n",
        "\n",
        "The purpose of this exercise is to get you comfortable with using different models, reading the documentation, trying stuff out...\n",
        "\n",
        "Here are the steps:\n",
        "1. Load the HR_train data and do EDA as you see fit. I am not giving instructions as you should explore and decide what to do by yourself.\n",
        "2. Split data into training/testing sets: https://pastebin.com/1pJkrTCV\n",
        "3. Build your model with the train data: https://pastebin.com/4JqpvWxV\n",
        "4. With your model built you need to import the testing data (HR_test) and try your model on it: https://pastebin.com/kpP3vTGf\n",
        "5. Once done and happy with your score you need to summarize your findings: the HR department would like to know which groups are the most risky and if you see any trends or have suggestions for them on how to improve retention. (for that you will need to do EDA, dataviz... but as mentioned at the beginning, that's up to you).\n",
        "\n",
        "And that's it. \n",
        "Try to raise the score by experimenting with column selection, filtering, model tweaking and the introduction of new models.\n",
        "e.g. if you want to try a decision tree you just do: https://pastebin.com/ffVM0Sit\n",
        "\n",
        "There are many more models if you want to play around: https://scikit-learn.org/stable/supervised_learning.html\n",
        "They all follow the same logic of:\n",
        "1. Import\n",
        "2. Create an instance of it\n",
        "3. Train\n",
        "4. Score"
      ]
    },
    {
      "cell_type": "code",
      "metadata": {
        "id": "7zMaEPmK5slk",
        "colab_type": "code",
        "colab": {}
      },
      "source": [
        "import pandas as pd\n",
        "import numpy as np\n",
        "import matplotlib.pyplot as plt\n",
        "from sklearn.model_selection import train_test_split\n",
        "%matplotlib inline"
      ],
      "execution_count": 0,
      "outputs": []
    },
    {
      "cell_type": "code",
      "metadata": {
        "id": "bf7pQtFt63fQ",
        "colab_type": "code",
        "colab": {
          "base_uri": "https://localhost:8080/",
          "height": 164
        },
        "outputId": "7ac07e35-a2ac-499c-eb61-fce91a3a78e6"
      },
      "source": [
        "df = pd.read_csv(\"HR_train.csv\")\n",
        "df1 = pd.read_csv(\"HR_test.csv\")\n",
        "df = pd.concat([df, df1])"
      ],
      "execution_count": 8,
      "outputs": [
        {
          "output_type": "stream",
          "text": [
            "/usr/local/lib/python3.6/dist-packages/ipykernel_launcher.py:3: FutureWarning: Sorting because non-concatenation axis is not aligned. A future version\n",
            "of pandas will change to not sort by default.\n",
            "\n",
            "To accept the future behavior, pass 'sort=False'.\n",
            "\n",
            "To retain the current behavior and silence the warning, pass 'sort=True'.\n",
            "\n",
            "  This is separate from the ipykernel package so we can avoid doing imports until\n"
          ],
          "name": "stderr"
        }
      ]
    },
    {
      "cell_type": "code",
      "metadata": {
        "id": "NPrCQWuM7wPC",
        "colab_type": "code",
        "colab": {
          "base_uri": "https://localhost:8080/",
          "height": 206
        },
        "outputId": "574cc3d4-71db-4857-b8e0-5a214937c1d8"
      },
      "source": [
        "df.head()"
      ],
      "execution_count": 9,
      "outputs": [
        {
          "output_type": "execute_result",
          "data": {
            "text/html": [
              "<div>\n",
              "<style scoped>\n",
              "    .dataframe tbody tr th:only-of-type {\n",
              "        vertical-align: middle;\n",
              "    }\n",
              "\n",
              "    .dataframe tbody tr th {\n",
              "        vertical-align: top;\n",
              "    }\n",
              "\n",
              "    .dataframe thead th {\n",
              "        text-align: right;\n",
              "    }\n",
              "</style>\n",
              "<table border=\"1\" class=\"dataframe\">\n",
              "  <thead>\n",
              "    <tr style=\"text-align: right;\">\n",
              "      <th></th>\n",
              "      <th>Department</th>\n",
              "      <th>Work_accident</th>\n",
              "      <th>average_montly_hours</th>\n",
              "      <th>department</th>\n",
              "      <th>last_evaluation</th>\n",
              "      <th>left</th>\n",
              "      <th>number_project</th>\n",
              "      <th>promotion_last_5years</th>\n",
              "      <th>salary</th>\n",
              "      <th>satisfaction_level</th>\n",
              "      <th>time_spend_company</th>\n",
              "      <th>work_accident</th>\n",
              "    </tr>\n",
              "  </thead>\n",
              "  <tbody>\n",
              "    <tr>\n",
              "      <th>0</th>\n",
              "      <td>sales</td>\n",
              "      <td>0.0</td>\n",
              "      <td>157</td>\n",
              "      <td>NaN</td>\n",
              "      <td>0.53</td>\n",
              "      <td>1</td>\n",
              "      <td>2</td>\n",
              "      <td>0</td>\n",
              "      <td>low</td>\n",
              "      <td>0.38</td>\n",
              "      <td>3</td>\n",
              "      <td>NaN</td>\n",
              "    </tr>\n",
              "    <tr>\n",
              "      <th>1</th>\n",
              "      <td>sales</td>\n",
              "      <td>0.0</td>\n",
              "      <td>262</td>\n",
              "      <td>NaN</td>\n",
              "      <td>0.86</td>\n",
              "      <td>1</td>\n",
              "      <td>5</td>\n",
              "      <td>0</td>\n",
              "      <td>medium</td>\n",
              "      <td>0.80</td>\n",
              "      <td>6</td>\n",
              "      <td>NaN</td>\n",
              "    </tr>\n",
              "    <tr>\n",
              "      <th>2</th>\n",
              "      <td>sales</td>\n",
              "      <td>0.0</td>\n",
              "      <td>272</td>\n",
              "      <td>NaN</td>\n",
              "      <td>0.88</td>\n",
              "      <td>1</td>\n",
              "      <td>7</td>\n",
              "      <td>0</td>\n",
              "      <td>medium</td>\n",
              "      <td>0.11</td>\n",
              "      <td>4</td>\n",
              "      <td>NaN</td>\n",
              "    </tr>\n",
              "    <tr>\n",
              "      <th>3</th>\n",
              "      <td>sales</td>\n",
              "      <td>0.0</td>\n",
              "      <td>223</td>\n",
              "      <td>NaN</td>\n",
              "      <td>0.87</td>\n",
              "      <td>1</td>\n",
              "      <td>5</td>\n",
              "      <td>0</td>\n",
              "      <td>low</td>\n",
              "      <td>0.72</td>\n",
              "      <td>5</td>\n",
              "      <td>NaN</td>\n",
              "    </tr>\n",
              "    <tr>\n",
              "      <th>4</th>\n",
              "      <td>sales</td>\n",
              "      <td>0.0</td>\n",
              "      <td>159</td>\n",
              "      <td>NaN</td>\n",
              "      <td>0.52</td>\n",
              "      <td>1</td>\n",
              "      <td>2</td>\n",
              "      <td>0</td>\n",
              "      <td>low</td>\n",
              "      <td>0.37</td>\n",
              "      <td>3</td>\n",
              "      <td>NaN</td>\n",
              "    </tr>\n",
              "  </tbody>\n",
              "</table>\n",
              "</div>"
            ],
            "text/plain": [
              "  Department  Work_accident  ...  time_spend_company work_accident\n",
              "0      sales            0.0  ...                   3           NaN\n",
              "1      sales            0.0  ...                   6           NaN\n",
              "2      sales            0.0  ...                   4           NaN\n",
              "3      sales            0.0  ...                   5           NaN\n",
              "4      sales            0.0  ...                   3           NaN\n",
              "\n",
              "[5 rows x 12 columns]"
            ]
          },
          "metadata": {
            "tags": []
          },
          "execution_count": 9
        }
      ]
    },
    {
      "cell_type": "code",
      "metadata": {
        "id": "NMAkFl0B8J2Z",
        "colab_type": "code",
        "colab": {
          "base_uri": "https://localhost:8080/",
          "height": 35
        },
        "outputId": "def2ddd6-1dd8-490b-d782-cbdf2d41e0da"
      },
      "source": [
        "df.shape"
      ],
      "execution_count": 10,
      "outputs": [
        {
          "output_type": "execute_result",
          "data": {
            "text/plain": [
              "(14999, 12)"
            ]
          },
          "metadata": {
            "tags": []
          },
          "execution_count": 10
        }
      ]
    },
    {
      "cell_type": "code",
      "metadata": {
        "id": "iO0jIJBY8NTD",
        "colab_type": "code",
        "colab": {
          "base_uri": "https://localhost:8080/",
          "height": 329
        },
        "outputId": "cb21c754-7f59-4c22-c5f2-e3621e99710b"
      },
      "source": [
        "df.info()"
      ],
      "execution_count": 11,
      "outputs": [
        {
          "output_type": "stream",
          "text": [
            "<class 'pandas.core.frame.DataFrame'>\n",
            "Int64Index: 14999 entries, 0 to 499\n",
            "Data columns (total 12 columns):\n",
            "Department               14499 non-null object\n",
            "Work_accident            14499 non-null float64\n",
            "average_montly_hours     14999 non-null int64\n",
            "department               500 non-null object\n",
            "last_evaluation          14999 non-null float64\n",
            "left                     14999 non-null int64\n",
            "number_project           14999 non-null int64\n",
            "promotion_last_5years    14999 non-null int64\n",
            "salary                   14999 non-null object\n",
            "satisfaction_level       14999 non-null float64\n",
            "time_spend_company       14999 non-null int64\n",
            "work_accident            500 non-null float64\n",
            "dtypes: float64(4), int64(5), object(3)\n",
            "memory usage: 1.5+ MB\n"
          ],
          "name": "stdout"
        }
      ]
    },
    {
      "cell_type": "code",
      "metadata": {
        "id": "B732Cvsj8O-V",
        "colab_type": "code",
        "colab": {}
      },
      "source": [
        ""
      ],
      "execution_count": 0,
      "outputs": []
    }
  ]
}