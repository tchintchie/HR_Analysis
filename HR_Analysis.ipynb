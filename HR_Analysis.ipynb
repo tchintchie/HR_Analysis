{
  "nbformat": 4,
  "nbformat_minor": 0,
  "metadata": {
    "colab": {
      "name": "HR_Analysis.ipynb",
      "provenance": [],
      "collapsed_sections": [],
      "toc_visible": true,
      "authorship_tag": "ABX9TyPHlV6gIElmyDTZiJerDw5V",
      "include_colab_link": true
    },
    "kernelspec": {
      "name": "python3",
      "display_name": "Python 3"
    }
  },
  "cells": [
    {
      "cell_type": "markdown",
      "metadata": {
        "id": "view-in-github",
        "colab_type": "text"
      },
      "source": [
        "<a href=\"https://colab.research.google.com/github/tchintchie/HR_Analysis/blob/master/HR_Analysis.ipynb\" target=\"_parent\"><img src=\"https://colab.research.google.com/assets/colab-badge.svg\" alt=\"Open In Colab\"/></a>"
      ]
    },
    {
      "cell_type": "markdown",
      "metadata": {
        "id": "MU0Gbtoi66F5",
        "colab_type": "text"
      },
      "source": [
        "# HR Analysis\n",
        "\n",
        "The HR department has tasked you with building a prediction model.\n",
        "You are supposed to figure out if an employee is going to leave or no.\n",
        "\n",
        "Below are two files, one for training and the other for testing.\n",
        "The data is nicely formatted, with no missing values, no outliers... can be used as-is but you can wrangle it if you like.\n",
        "\n",
        "We are predicting the 'left' column, 1 meaning yes and 0 meaning no.\n",
        "\n",
        "The purpose of this exercise is to get you comfortable with using different models, reading the documentation, trying stuff out...\n",
        "\n",
        "Here are the steps:\n",
        "1. Load the HR_train data and do EDA as you see fit. I am not giving instructions as you should explore and decide what to do by yourself.\n",
        "2. Split data into training/testing sets: https://pastebin.com/1pJkrTCV\n",
        "3. Build your model with the train data: https://pastebin.com/4JqpvWxV\n",
        "4. With your model built you need to import the testing data (HR_test) and try your model on it: https://pastebin.com/kpP3vTGf\n",
        "5. Once done and happy with your score you need to summarize your findings: the HR department would like to know which groups are the most risky and if you see any trends or have suggestions for them on how to improve retention. (for that you will need to do EDA, dataviz... but as mentioned at the beginning, that's up to you).\n",
        "\n",
        "And that's it. \n",
        "Try to raise the score by experimenting with column selection, filtering, model tweaking and the introduction of new models.\n",
        "e.g. if you want to try a decision tree you just do: https://pastebin.com/ffVM0Sit\n",
        "\n",
        "There are many more models if you want to play around: https://scikit-learn.org/stable/supervised_learning.html\n",
        "They all follow the same logic of:\n",
        "1. Import\n",
        "2. Create an instance of it\n",
        "3. Train\n",
        "4. Score"
      ]
    },
    {
      "cell_type": "markdown",
      "metadata": {
        "id": "1RWL3QTd3gfY",
        "colab_type": "text"
      },
      "source": [
        "# importing the libraries"
      ]
    },
    {
      "cell_type": "code",
      "metadata": {
        "id": "7zMaEPmK5slk",
        "colab_type": "code",
        "colab": {}
      },
      "source": [
        "import pandas as pd\n",
        "import numpy as np\n",
        "import matplotlib.pyplot as plt\n",
        "from sklearn.model_selection import train_test_split\n",
        "from sklearn.linear_model import LogisticRegression\n",
        "from sklearn.tree import DecisionTreeClassifier\n",
        "from sklearn.neighbors import KNeighborsClassifier\n",
        "from sklearn.linear_model import LinearRegression\n",
        "from sklearn import metrics\n",
        "from sklearn.metrics import confusion_matrix, classification_report\n",
        "from sklearn import model_selection\n",
        "from sklearn.discriminant_analysis import LinearDiscriminantAnalysis\n",
        "from sklearn.naive_bayes import GaussianNB\n",
        "from sklearn.svm import SVC\n",
        "from sklearn.model_selection import GridSearchCV, ShuffleSplit\n",
        "from sklearn.linear_model import Lasso\n",
        "from sklearn.tree import DecisionTreeRegressor\n",
        "from sklearn import svm \n",
        "from sklearn import preprocessing\n",
        "from sklearn import utils\n",
        "import seaborn as sns\n",
        "%matplotlib inline"
      ],
      "execution_count": 0,
      "outputs": []
    },
    {
      "cell_type": "markdown",
      "metadata": {
        "id": "3ocldUhx3acf",
        "colab_type": "text"
      },
      "source": [
        "# exploring the Dataset and converting datatypes where it makes sense"
      ]
    },
    {
      "cell_type": "code",
      "metadata": {
        "id": "bf7pQtFt63fQ",
        "colab_type": "code",
        "outputId": "979cbe95-2959-4b27-907a-ce3267fd9ac3",
        "colab": {
          "base_uri": "https://localhost:8080/",
          "height": 164
        }
      },
      "source": [
        "df = pd.read_csv(\"HR_train.csv\")\n",
        "df1 = pd.read_csv(\"HR_test.csv\")\n",
        "df = pd.concat([df, df1])"
      ],
      "execution_count": 2,
      "outputs": [
        {
          "output_type": "stream",
          "text": [
            "/usr/local/lib/python3.6/dist-packages/ipykernel_launcher.py:3: FutureWarning: Sorting because non-concatenation axis is not aligned. A future version\n",
            "of pandas will change to not sort by default.\n",
            "\n",
            "To accept the future behavior, pass 'sort=False'.\n",
            "\n",
            "To retain the current behavior and silence the warning, pass 'sort=True'.\n",
            "\n",
            "  This is separate from the ipykernel package so we can avoid doing imports until\n"
          ],
          "name": "stderr"
        }
      ]
    },
    {
      "cell_type": "code",
      "metadata": {
        "id": "NPrCQWuM7wPC",
        "colab_type": "code",
        "outputId": "bc55ce8b-81d9-4d84-a834-c69887ff16cc",
        "colab": {
          "base_uri": "https://localhost:8080/",
          "height": 206
        }
      },
      "source": [
        "df.head()"
      ],
      "execution_count": 3,
      "outputs": [
        {
          "output_type": "execute_result",
          "data": {
            "text/html": [
              "<div>\n",
              "<style scoped>\n",
              "    .dataframe tbody tr th:only-of-type {\n",
              "        vertical-align: middle;\n",
              "    }\n",
              "\n",
              "    .dataframe tbody tr th {\n",
              "        vertical-align: top;\n",
              "    }\n",
              "\n",
              "    .dataframe thead th {\n",
              "        text-align: right;\n",
              "    }\n",
              "</style>\n",
              "<table border=\"1\" class=\"dataframe\">\n",
              "  <thead>\n",
              "    <tr style=\"text-align: right;\">\n",
              "      <th></th>\n",
              "      <th>Department</th>\n",
              "      <th>Work_accident</th>\n",
              "      <th>average_montly_hours</th>\n",
              "      <th>department</th>\n",
              "      <th>last_evaluation</th>\n",
              "      <th>left</th>\n",
              "      <th>number_project</th>\n",
              "      <th>promotion_last_5years</th>\n",
              "      <th>salary</th>\n",
              "      <th>satisfaction_level</th>\n",
              "      <th>time_spend_company</th>\n",
              "      <th>work_accident</th>\n",
              "    </tr>\n",
              "  </thead>\n",
              "  <tbody>\n",
              "    <tr>\n",
              "      <th>0</th>\n",
              "      <td>sales</td>\n",
              "      <td>0.0</td>\n",
              "      <td>157</td>\n",
              "      <td>NaN</td>\n",
              "      <td>0.53</td>\n",
              "      <td>1</td>\n",
              "      <td>2</td>\n",
              "      <td>0</td>\n",
              "      <td>low</td>\n",
              "      <td>0.38</td>\n",
              "      <td>3</td>\n",
              "      <td>NaN</td>\n",
              "    </tr>\n",
              "    <tr>\n",
              "      <th>1</th>\n",
              "      <td>sales</td>\n",
              "      <td>0.0</td>\n",
              "      <td>262</td>\n",
              "      <td>NaN</td>\n",
              "      <td>0.86</td>\n",
              "      <td>1</td>\n",
              "      <td>5</td>\n",
              "      <td>0</td>\n",
              "      <td>medium</td>\n",
              "      <td>0.80</td>\n",
              "      <td>6</td>\n",
              "      <td>NaN</td>\n",
              "    </tr>\n",
              "    <tr>\n",
              "      <th>2</th>\n",
              "      <td>sales</td>\n",
              "      <td>0.0</td>\n",
              "      <td>272</td>\n",
              "      <td>NaN</td>\n",
              "      <td>0.88</td>\n",
              "      <td>1</td>\n",
              "      <td>7</td>\n",
              "      <td>0</td>\n",
              "      <td>medium</td>\n",
              "      <td>0.11</td>\n",
              "      <td>4</td>\n",
              "      <td>NaN</td>\n",
              "    </tr>\n",
              "    <tr>\n",
              "      <th>3</th>\n",
              "      <td>sales</td>\n",
              "      <td>0.0</td>\n",
              "      <td>223</td>\n",
              "      <td>NaN</td>\n",
              "      <td>0.87</td>\n",
              "      <td>1</td>\n",
              "      <td>5</td>\n",
              "      <td>0</td>\n",
              "      <td>low</td>\n",
              "      <td>0.72</td>\n",
              "      <td>5</td>\n",
              "      <td>NaN</td>\n",
              "    </tr>\n",
              "    <tr>\n",
              "      <th>4</th>\n",
              "      <td>sales</td>\n",
              "      <td>0.0</td>\n",
              "      <td>159</td>\n",
              "      <td>NaN</td>\n",
              "      <td>0.52</td>\n",
              "      <td>1</td>\n",
              "      <td>2</td>\n",
              "      <td>0</td>\n",
              "      <td>low</td>\n",
              "      <td>0.37</td>\n",
              "      <td>3</td>\n",
              "      <td>NaN</td>\n",
              "    </tr>\n",
              "  </tbody>\n",
              "</table>\n",
              "</div>"
            ],
            "text/plain": [
              "  Department  Work_accident  ...  time_spend_company work_accident\n",
              "0      sales            0.0  ...                   3           NaN\n",
              "1      sales            0.0  ...                   6           NaN\n",
              "2      sales            0.0  ...                   4           NaN\n",
              "3      sales            0.0  ...                   5           NaN\n",
              "4      sales            0.0  ...                   3           NaN\n",
              "\n",
              "[5 rows x 12 columns]"
            ]
          },
          "metadata": {
            "tags": []
          },
          "execution_count": 3
        }
      ]
    },
    {
      "cell_type": "code",
      "metadata": {
        "id": "NMAkFl0B8J2Z",
        "colab_type": "code",
        "outputId": "c067dd16-4ffe-4a74-f3b6-f7ec40cd5818",
        "colab": {
          "base_uri": "https://localhost:8080/",
          "height": 35
        }
      },
      "source": [
        "df.shape"
      ],
      "execution_count": 4,
      "outputs": [
        {
          "output_type": "execute_result",
          "data": {
            "text/plain": [
              "(14999, 12)"
            ]
          },
          "metadata": {
            "tags": []
          },
          "execution_count": 4
        }
      ]
    },
    {
      "cell_type": "code",
      "metadata": {
        "id": "1deAmWP6y-Xl",
        "colab_type": "code",
        "outputId": "fe5b57f9-c878-4cda-ba86-31e44bf24226",
        "colab": {
          "base_uri": "https://localhost:8080/",
          "height": 329
        }
      },
      "source": [
        "df.info()"
      ],
      "execution_count": 5,
      "outputs": [
        {
          "output_type": "stream",
          "text": [
            "<class 'pandas.core.frame.DataFrame'>\n",
            "Int64Index: 14999 entries, 0 to 499\n",
            "Data columns (total 12 columns):\n",
            "Department               14499 non-null object\n",
            "Work_accident            14499 non-null float64\n",
            "average_montly_hours     14999 non-null int64\n",
            "department               500 non-null object\n",
            "last_evaluation          14999 non-null float64\n",
            "left                     14999 non-null int64\n",
            "number_project           14999 non-null int64\n",
            "promotion_last_5years    14999 non-null int64\n",
            "salary                   14999 non-null object\n",
            "satisfaction_level       14999 non-null float64\n",
            "time_spend_company       14999 non-null int64\n",
            "work_accident            500 non-null float64\n",
            "dtypes: float64(4), int64(5), object(3)\n",
            "memory usage: 1.5+ MB\n"
          ],
          "name": "stdout"
        }
      ]
    },
    {
      "cell_type": "markdown",
      "metadata": {
        "id": "akqFCz533KRV",
        "colab_type": "text"
      },
      "source": [
        "## drop the duplicate and incomplete `department` column"
      ]
    },
    {
      "cell_type": "code",
      "metadata": {
        "id": "jQasCZWxzT6e",
        "colab_type": "code",
        "colab": {}
      },
      "source": [
        "df.drop(\"department\", axis=1, inplace=True)"
      ],
      "execution_count": 0,
      "outputs": []
    },
    {
      "cell_type": "markdown",
      "metadata": {
        "id": "ePHjzWlZ3Ra0",
        "colab_type": "text"
      },
      "source": [
        "## convert `salary` column to numerical 0, 1, 2"
      ]
    },
    {
      "cell_type": "code",
      "metadata": {
        "id": "iJC9TRuL1Pid",
        "colab_type": "code",
        "outputId": "6832b76b-a98d-4eff-d8e7-148e8bf32418",
        "colab": {
          "base_uri": "https://localhost:8080/",
          "height": 90
        }
      },
      "source": [
        "# low 7316 --> 0\n",
        "# medium 6446 --> 1\n",
        "# high 1237 --> 2\n",
        "\n",
        "df[\"salary\"]=df.salary.map({\"low\":0,\"medium\":1, \"high\":2})\n",
        "df.salary.value_counts()"
      ],
      "execution_count": 7,
      "outputs": [
        {
          "output_type": "execute_result",
          "data": {
            "text/plain": [
              "0    7316\n",
              "1    6446\n",
              "2    1237\n",
              "Name: salary, dtype: int64"
            ]
          },
          "metadata": {
            "tags": []
          },
          "execution_count": 7
        }
      ]
    },
    {
      "cell_type": "code",
      "metadata": {
        "id": "RIb4e7Ak13L9",
        "colab_type": "code",
        "outputId": "c3925a45-4a5d-4a1d-c498-1b8d93e3f7f2",
        "colab": {
          "base_uri": "https://localhost:8080/",
          "height": 311
        }
      },
      "source": [
        "df.info()"
      ],
      "execution_count": 8,
      "outputs": [
        {
          "output_type": "stream",
          "text": [
            "<class 'pandas.core.frame.DataFrame'>\n",
            "Int64Index: 14999 entries, 0 to 499\n",
            "Data columns (total 11 columns):\n",
            "Department               14499 non-null object\n",
            "Work_accident            14499 non-null float64\n",
            "average_montly_hours     14999 non-null int64\n",
            "last_evaluation          14999 non-null float64\n",
            "left                     14999 non-null int64\n",
            "number_project           14999 non-null int64\n",
            "promotion_last_5years    14999 non-null int64\n",
            "salary                   14999 non-null int64\n",
            "satisfaction_level       14999 non-null float64\n",
            "time_spend_company       14999 non-null int64\n",
            "work_accident            500 non-null float64\n",
            "dtypes: float64(4), int64(6), object(1)\n",
            "memory usage: 1.4+ MB\n"
          ],
          "name": "stdout"
        }
      ]
    },
    {
      "cell_type": "markdown",
      "metadata": {
        "id": "ES_yHqlFI8C8",
        "colab_type": "text"
      },
      "source": [
        "### convert Department to numerical"
      ]
    },
    {
      "cell_type": "code",
      "metadata": {
        "id": "q4zvyQQMJAMf",
        "colab_type": "code",
        "outputId": "9b06e606-f026-40b4-cbc5-ffb062cf2336",
        "colab": {
          "base_uri": "https://localhost:8080/",
          "height": 219
        }
      },
      "source": [
        "# sales          4000 --> 0\n",
        "# technical      2628 --> 1\n",
        "# support        2156 --> 2\n",
        "# IT             1190 --> 3\n",
        "# product_mng     876 --> 4\n",
        "# marketing       830 --> 5\n",
        "# RandD           752 --> 6\n",
        "# accounting      739 --> 7\n",
        "# hr              711 --> 8\n",
        "# management      617 --> 9\n",
        "df[\"Department\"] = df.Department.map({\"sales\":0, \"technical\":1,\"support\":2,\"IT\":3,\"product_mng\":4,\"marketing\":5,\"RandD\":6,\"accounting\":7,\"hr\":8,\"management\":9})\n",
        "df.Department.value_counts()"
      ],
      "execution_count": 9,
      "outputs": [
        {
          "output_type": "execute_result",
          "data": {
            "text/plain": [
              "0.0    4000\n",
              "1.0    2628\n",
              "2.0    2156\n",
              "3.0    1190\n",
              "4.0     876\n",
              "5.0     830\n",
              "6.0     752\n",
              "7.0     739\n",
              "8.0     711\n",
              "9.0     617\n",
              "Name: Department, dtype: int64"
            ]
          },
          "metadata": {
            "tags": []
          },
          "execution_count": 9
        }
      ]
    },
    {
      "cell_type": "code",
      "metadata": {
        "id": "szgSShtD2NF0",
        "colab_type": "code",
        "outputId": "a6647444-3ba2-4df2-d05a-7c03898570a6",
        "colab": {
          "base_uri": "https://localhost:8080/",
          "height": 72
        }
      },
      "source": [
        "df.Work_accident.value_counts()"
      ],
      "execution_count": 10,
      "outputs": [
        {
          "output_type": "execute_result",
          "data": {
            "text/plain": [
              "0.0    12383\n",
              "1.0     2116\n",
              "Name: Work_accident, dtype: int64"
            ]
          },
          "metadata": {
            "tags": []
          },
          "execution_count": 10
        }
      ]
    },
    {
      "cell_type": "code",
      "metadata": {
        "id": "YF02V_6M2jMZ",
        "colab_type": "code",
        "colab": {}
      },
      "source": [
        "df.drop(\"work_accident\", inplace=True, axis=1)"
      ],
      "execution_count": 0,
      "outputs": []
    },
    {
      "cell_type": "markdown",
      "metadata": {
        "id": "IbYUIlD6LTx7",
        "colab_type": "text"
      },
      "source": [
        "# clean up remaining null values\n",
        "## replace them with `0`"
      ]
    },
    {
      "cell_type": "code",
      "metadata": {
        "id": "WD_Gdg22LKVs",
        "colab_type": "code",
        "outputId": "04ffc168-addd-4118-9763-4499b4f6403f",
        "colab": {
          "base_uri": "https://localhost:8080/",
          "height": 219
        }
      },
      "source": [
        "df.isnull().sum()"
      ],
      "execution_count": 12,
      "outputs": [
        {
          "output_type": "execute_result",
          "data": {
            "text/plain": [
              "Department               500\n",
              "Work_accident            500\n",
              "average_montly_hours       0\n",
              "last_evaluation            0\n",
              "left                       0\n",
              "number_project             0\n",
              "promotion_last_5years      0\n",
              "salary                     0\n",
              "satisfaction_level         0\n",
              "time_spend_company         0\n",
              "dtype: int64"
            ]
          },
          "metadata": {
            "tags": []
          },
          "execution_count": 12
        }
      ]
    },
    {
      "cell_type": "code",
      "metadata": {
        "id": "9WhA8UhVLm3E",
        "colab_type": "code",
        "colab": {}
      },
      "source": [
        "df.Department.fillna(0, inplace=True)\n",
        "df.Work_accident.fillna(0, inplace=True)"
      ],
      "execution_count": 0,
      "outputs": []
    },
    {
      "cell_type": "code",
      "metadata": {
        "id": "Kc0kWt0W2uPh",
        "colab_type": "code",
        "outputId": "c001dc5f-ceeb-4eb8-a5c6-381aefd8819f",
        "colab": {
          "base_uri": "https://localhost:8080/",
          "height": 293
        }
      },
      "source": [
        "df.info()"
      ],
      "execution_count": 14,
      "outputs": [
        {
          "output_type": "stream",
          "text": [
            "<class 'pandas.core.frame.DataFrame'>\n",
            "Int64Index: 14999 entries, 0 to 499\n",
            "Data columns (total 10 columns):\n",
            "Department               14999 non-null float64\n",
            "Work_accident            14999 non-null float64\n",
            "average_montly_hours     14999 non-null int64\n",
            "last_evaluation          14999 non-null float64\n",
            "left                     14999 non-null int64\n",
            "number_project           14999 non-null int64\n",
            "promotion_last_5years    14999 non-null int64\n",
            "salary                   14999 non-null int64\n",
            "satisfaction_level       14999 non-null float64\n",
            "time_spend_company       14999 non-null int64\n",
            "dtypes: float64(4), int64(6)\n",
            "memory usage: 1.3 MB\n"
          ],
          "name": "stdout"
        }
      ]
    },
    {
      "cell_type": "markdown",
      "metadata": {
        "id": "JpjN2o0W61mI",
        "colab_type": "text"
      },
      "source": [
        "## Check for correlations between variables"
      ]
    },
    {
      "cell_type": "code",
      "metadata": {
        "id": "M21FBgNy6red",
        "colab_type": "code",
        "outputId": "92b545cb-0d25-423c-c927-c61c25f606c5",
        "colab": {
          "base_uri": "https://localhost:8080/",
          "height": 363
        }
      },
      "source": [
        "corr = df.corr()\n",
        "corr"
      ],
      "execution_count": 15,
      "outputs": [
        {
          "output_type": "execute_result",
          "data": {
            "text/html": [
              "<div>\n",
              "<style scoped>\n",
              "    .dataframe tbody tr th:only-of-type {\n",
              "        vertical-align: middle;\n",
              "    }\n",
              "\n",
              "    .dataframe tbody tr th {\n",
              "        vertical-align: top;\n",
              "    }\n",
              "\n",
              "    .dataframe thead th {\n",
              "        text-align: right;\n",
              "    }\n",
              "</style>\n",
              "<table border=\"1\" class=\"dataframe\">\n",
              "  <thead>\n",
              "    <tr style=\"text-align: right;\">\n",
              "      <th></th>\n",
              "      <th>Department</th>\n",
              "      <th>Work_accident</th>\n",
              "      <th>average_montly_hours</th>\n",
              "      <th>last_evaluation</th>\n",
              "      <th>left</th>\n",
              "      <th>number_project</th>\n",
              "      <th>promotion_last_5years</th>\n",
              "      <th>salary</th>\n",
              "      <th>satisfaction_level</th>\n",
              "      <th>time_spend_company</th>\n",
              "    </tr>\n",
              "  </thead>\n",
              "  <tbody>\n",
              "    <tr>\n",
              "      <th>Department</th>\n",
              "      <td>1.000000</td>\n",
              "      <td>0.017630</td>\n",
              "      <td>-0.008907</td>\n",
              "      <td>0.004335</td>\n",
              "      <td>-0.049121</td>\n",
              "      <td>-0.008812</td>\n",
              "      <td>0.077508</td>\n",
              "      <td>0.099264</td>\n",
              "      <td>0.002154</td>\n",
              "      <td>0.042822</td>\n",
              "    </tr>\n",
              "    <tr>\n",
              "      <th>Work_accident</th>\n",
              "      <td>0.017630</td>\n",
              "      <td>1.000000</td>\n",
              "      <td>-0.007937</td>\n",
              "      <td>-0.007073</td>\n",
              "      <td>-0.157295</td>\n",
              "      <td>-0.001595</td>\n",
              "      <td>0.041148</td>\n",
              "      <td>0.011603</td>\n",
              "      <td>0.059013</td>\n",
              "      <td>0.004032</td>\n",
              "    </tr>\n",
              "    <tr>\n",
              "      <th>average_montly_hours</th>\n",
              "      <td>-0.008907</td>\n",
              "      <td>-0.007937</td>\n",
              "      <td>1.000000</td>\n",
              "      <td>0.339742</td>\n",
              "      <td>0.071287</td>\n",
              "      <td>0.417211</td>\n",
              "      <td>-0.003544</td>\n",
              "      <td>-0.002242</td>\n",
              "      <td>-0.020048</td>\n",
              "      <td>0.127755</td>\n",
              "    </tr>\n",
              "    <tr>\n",
              "      <th>last_evaluation</th>\n",
              "      <td>0.004335</td>\n",
              "      <td>-0.007073</td>\n",
              "      <td>0.339742</td>\n",
              "      <td>1.000000</td>\n",
              "      <td>0.006567</td>\n",
              "      <td>0.349333</td>\n",
              "      <td>-0.008684</td>\n",
              "      <td>-0.013002</td>\n",
              "      <td>0.105021</td>\n",
              "      <td>0.131591</td>\n",
              "    </tr>\n",
              "    <tr>\n",
              "      <th>left</th>\n",
              "      <td>-0.049121</td>\n",
              "      <td>-0.157295</td>\n",
              "      <td>0.071287</td>\n",
              "      <td>0.006567</td>\n",
              "      <td>1.000000</td>\n",
              "      <td>0.023787</td>\n",
              "      <td>-0.061788</td>\n",
              "      <td>-0.157898</td>\n",
              "      <td>-0.388375</td>\n",
              "      <td>0.144822</td>\n",
              "    </tr>\n",
              "    <tr>\n",
              "      <th>number_project</th>\n",
              "      <td>-0.008812</td>\n",
              "      <td>-0.001595</td>\n",
              "      <td>0.417211</td>\n",
              "      <td>0.349333</td>\n",
              "      <td>0.023787</td>\n",
              "      <td>1.000000</td>\n",
              "      <td>-0.006064</td>\n",
              "      <td>-0.001803</td>\n",
              "      <td>-0.142970</td>\n",
              "      <td>0.196786</td>\n",
              "    </tr>\n",
              "    <tr>\n",
              "      <th>promotion_last_5years</th>\n",
              "      <td>0.077508</td>\n",
              "      <td>0.041148</td>\n",
              "      <td>-0.003544</td>\n",
              "      <td>-0.008684</td>\n",
              "      <td>-0.061788</td>\n",
              "      <td>-0.006064</td>\n",
              "      <td>1.000000</td>\n",
              "      <td>0.098119</td>\n",
              "      <td>0.025605</td>\n",
              "      <td>0.067433</td>\n",
              "    </tr>\n",
              "    <tr>\n",
              "      <th>salary</th>\n",
              "      <td>0.099264</td>\n",
              "      <td>0.011603</td>\n",
              "      <td>-0.002242</td>\n",
              "      <td>-0.013002</td>\n",
              "      <td>-0.157898</td>\n",
              "      <td>-0.001803</td>\n",
              "      <td>0.098119</td>\n",
              "      <td>1.000000</td>\n",
              "      <td>0.050022</td>\n",
              "      <td>0.048715</td>\n",
              "    </tr>\n",
              "    <tr>\n",
              "      <th>satisfaction_level</th>\n",
              "      <td>0.002154</td>\n",
              "      <td>0.059013</td>\n",
              "      <td>-0.020048</td>\n",
              "      <td>0.105021</td>\n",
              "      <td>-0.388375</td>\n",
              "      <td>-0.142970</td>\n",
              "      <td>0.025605</td>\n",
              "      <td>0.050022</td>\n",
              "      <td>1.000000</td>\n",
              "      <td>-0.100866</td>\n",
              "    </tr>\n",
              "    <tr>\n",
              "      <th>time_spend_company</th>\n",
              "      <td>0.042822</td>\n",
              "      <td>0.004032</td>\n",
              "      <td>0.127755</td>\n",
              "      <td>0.131591</td>\n",
              "      <td>0.144822</td>\n",
              "      <td>0.196786</td>\n",
              "      <td>0.067433</td>\n",
              "      <td>0.048715</td>\n",
              "      <td>-0.100866</td>\n",
              "      <td>1.000000</td>\n",
              "    </tr>\n",
              "  </tbody>\n",
              "</table>\n",
              "</div>"
            ],
            "text/plain": [
              "                       Department  ...  time_spend_company\n",
              "Department               1.000000  ...            0.042822\n",
              "Work_accident            0.017630  ...            0.004032\n",
              "average_montly_hours    -0.008907  ...            0.127755\n",
              "last_evaluation          0.004335  ...            0.131591\n",
              "left                    -0.049121  ...            0.144822\n",
              "number_project          -0.008812  ...            0.196786\n",
              "promotion_last_5years    0.077508  ...            0.067433\n",
              "salary                   0.099264  ...            0.048715\n",
              "satisfaction_level       0.002154  ...           -0.100866\n",
              "time_spend_company       0.042822  ...            1.000000\n",
              "\n",
              "[10 rows x 10 columns]"
            ]
          },
          "metadata": {
            "tags": []
          },
          "execution_count": 15
        }
      ]
    },
    {
      "cell_type": "markdown",
      "metadata": {
        "id": "dRWdJoWn8sxn",
        "colab_type": "text"
      },
      "source": [
        "### create heatmap for better visibility"
      ]
    },
    {
      "cell_type": "code",
      "metadata": {
        "id": "mHzpayU67RqE",
        "colab_type": "code",
        "outputId": "0a9fb635-681e-46f4-d5fe-2fb6d63334f4",
        "colab": {
          "base_uri": "https://localhost:8080/",
          "height": 347
        }
      },
      "source": [
        "ax = sns.heatmap(\n",
        "    corr, \n",
        "    vmin=-1, vmax=1, center=0,\n",
        "    cmap=sns.diverging_palette(20, 220, n=200),\n",
        "    square=True\n",
        ")\n",
        "ax.set_xticklabels(\n",
        "    ax.get_xticklabels(),\n",
        "    rotation=45,\n",
        "    horizontalalignment='right'\n",
        ")\n",
        "plt.show()"
      ],
      "execution_count": 16,
      "outputs": [
        {
          "output_type": "display_data",
          "data": {
            "image/png": "[encoded data removed]",
            "text/plain": [
              "<Figure size 432x288 with 2 Axes>"
            ]
          },
          "metadata": {
            "tags": []
          }
        }
      ]
    },
    {
      "cell_type": "markdown",
      "metadata": {
        "id": "1QGrGdrH8zUL",
        "colab_type": "text"
      },
      "source": [
        "#### we can see some correlation between `satisfaction_level` and `left` (negative)"
      ]
    },
    {
      "cell_type": "markdown",
      "metadata": {
        "id": "GCzge214382-",
        "colab_type": "text"
      },
      "source": [
        "# start preparing for prediction model\n",
        "## splitting the dataset"
      ]
    },
    {
      "cell_type": "code",
      "metadata": {
        "id": "RrchEPF84BJk",
        "colab_type": "code",
        "colab": {}
      },
      "source": [
        "cols_to_use = [\"Department\",\"Work_accident\",\"average_montly_hours\",\"last_evaluation\",\"number_project\",\"promotion_last_5years\",\"salary\",\"satisfaction_level\",\"time_spend_company\"]\n",
        "X = df[cols_to_use] # Here you enter whichever columns you think have an impact on the score. Experiment with it\n",
        "y = df['left'] # Here you enter 'left' as this is what we are predicting\n",
        " \n",
        "# Create test/train sets of data\n",
        "X_train, X_test, y_train, y_test = train_test_split(X, y, train_size=0.85) # Play around with train_size and other params"
      ],
      "execution_count": 0,
      "outputs": []
    },
    {
      "cell_type": "code",
      "metadata": {
        "id": "1XJbFU8L5fBG",
        "colab_type": "code",
        "outputId": "11ce5c23-b8c6-41d9-f335-12f25db46681",
        "colab": {
          "base_uri": "https://localhost:8080/",
          "height": 90
        }
      },
      "source": [
        "print(X_train.shape)\n",
        "print(X_test.shape)\n",
        "print(y_train.shape)\n",
        "print(y_test.shape)"
      ],
      "execution_count": 18,
      "outputs": [
        {
          "output_type": "stream",
          "text": [
            "(12749, 9)\n",
            "(2250, 9)\n",
            "(12749,)\n",
            "(2250,)\n"
          ],
          "name": "stdout"
        }
      ]
    },
    {
      "cell_type": "code",
      "metadata": {
        "id": "ALWNeLPP5j66",
        "colab_type": "code",
        "outputId": "20caca99-b7e3-4c56-d43f-fa8dd68b8527",
        "colab": {
          "base_uri": "https://localhost:8080/",
          "height": 35
        }
      },
      "source": [
        "# Create an instance\n",
        "logreg = LogisticRegression(max_iter=1000)\n",
        "# Train it\n",
        "logreg.fit(X_train, y_train)\n",
        "# Test how well it performs on the training data\n",
        "print(\"Score: \",logreg.score(X_test, y_test))"
      ],
      "execution_count": 19,
      "outputs": [
        {
          "output_type": "stream",
          "text": [
            "Score:  0.8048888888888889\n"
          ],
          "name": "stdout"
        }
      ]
    },
    {
      "cell_type": "markdown",
      "metadata": {
        "id": "Pm4mc9JBExWz",
        "colab_type": "text"
      },
      "source": [
        "# testing the model with linear Regression\n",
        "## importing the test data"
      ]
    },
    {
      "cell_type": "code",
      "metadata": {
        "id": "JTpEu8Sp9jZs",
        "colab_type": "code",
        "outputId": "b3184839-a259-4b53-dcf8-6ff1899e3507",
        "colab": {
          "base_uri": "https://localhost:8080/",
          "height": 293
        }
      },
      "source": [
        "df_test = pd.read_csv('HR_test.csv')\n",
        "# low 7316 --> 0\n",
        "# medium 6446 --> 1\n",
        "# high 1237 --> 2\n",
        "df_test[\"salary\"]=df_test.salary.map({\"low\":0,\"medium\":1, \"high\":2})\n",
        "df_test.salary.value_counts()\n",
        "df_test.info()"
      ],
      "execution_count": 20,
      "outputs": [
        {
          "output_type": "stream",
          "text": [
            "<class 'pandas.core.frame.DataFrame'>\n",
            "RangeIndex: 500 entries, 0 to 499\n",
            "Data columns (total 10 columns):\n",
            "satisfaction_level       500 non-null float64\n",
            "last_evaluation          500 non-null float64\n",
            "number_project           500 non-null int64\n",
            "average_montly_hours     500 non-null int64\n",
            "time_spend_company       500 non-null int64\n",
            "work_accident            500 non-null int64\n",
            "left                     500 non-null int64\n",
            "promotion_last_5years    500 non-null int64\n",
            "department               500 non-null object\n",
            "salary                   500 non-null int64\n",
            "dtypes: float64(2), int64(7), object(1)\n",
            "memory usage: 39.2+ KB\n"
          ],
          "name": "stdout"
        }
      ]
    },
    {
      "cell_type": "code",
      "metadata": {
        "id": "2WJRLYC_GJiz",
        "colab_type": "code",
        "outputId": "7d8e6f6e-c2b9-4ff6-b6eb-ca8d5a0b85c2",
        "colab": {
          "base_uri": "https://localhost:8080/",
          "height": 219
        }
      },
      "source": [
        "# sales          4000 --> 0\n",
        "# technical      2628 --> 1\n",
        "# support        2156 --> 2\n",
        "# IT             1190 --> 3\n",
        "# product_mng     876 --> 4\n",
        "# marketing       830 --> 5\n",
        "# RandD           752 --> 6\n",
        "# accounting      739 --> 7\n",
        "# hr              711 --> 8\n",
        "# management      617 --> 9\n",
        "df_test[\"Department\"] = df_test.department.map({\"sales\":0, \"technical\":1,\"support\":2,\"IT\":3,\"product_mng\":4,\"marketing\":5,\"RandD\":6,\"accounting\":7,\"hr\":8,\"management\":9})\n",
        "df_test.Department.value_counts()"
      ],
      "execution_count": 21,
      "outputs": [
        {
          "output_type": "execute_result",
          "data": {
            "text/plain": [
              "0    140\n",
              "1     92\n",
              "2     73\n",
              "3     37\n",
              "6     35\n",
              "8     28\n",
              "7     28\n",
              "5     28\n",
              "4     26\n",
              "9     13\n",
              "Name: Department, dtype: int64"
            ]
          },
          "metadata": {
            "tags": []
          },
          "execution_count": 21
        }
      ]
    },
    {
      "cell_type": "code",
      "metadata": {
        "id": "xBZucq9wzeky",
        "colab_type": "code",
        "colab": {}
      },
      "source": [
        "df_test[\"Work_accident\"] = df_test.work_accident"
      ],
      "execution_count": 0,
      "outputs": []
    },
    {
      "cell_type": "code",
      "metadata": {
        "id": "th9hamC8GmZg",
        "colab_type": "code",
        "outputId": "22757303-acd8-434a-8f48-fae06d797c6f",
        "colab": {
          "base_uri": "https://localhost:8080/",
          "height": 329
        }
      },
      "source": [
        "df_test.info()"
      ],
      "execution_count": 23,
      "outputs": [
        {
          "output_type": "stream",
          "text": [
            "<class 'pandas.core.frame.DataFrame'>\n",
            "RangeIndex: 500 entries, 0 to 499\n",
            "Data columns (total 12 columns):\n",
            "satisfaction_level       500 non-null float64\n",
            "last_evaluation          500 non-null float64\n",
            "number_project           500 non-null int64\n",
            "average_montly_hours     500 non-null int64\n",
            "time_spend_company       500 non-null int64\n",
            "work_accident            500 non-null int64\n",
            "left                     500 non-null int64\n",
            "promotion_last_5years    500 non-null int64\n",
            "department               500 non-null object\n",
            "salary                   500 non-null int64\n",
            "Department               500 non-null int64\n",
            "Work_accident            500 non-null int64\n",
            "dtypes: float64(2), int64(9), object(1)\n",
            "memory usage: 47.0+ KB\n"
          ],
          "name": "stdout"
        }
      ]
    },
    {
      "cell_type": "code",
      "metadata": {
        "id": "lOw6ejJDE6Zr",
        "colab_type": "code",
        "outputId": "09dd328d-d85d-476b-b65a-79808b742ba9",
        "colab": {
          "base_uri": "https://localhost:8080/",
          "height": 54
        }
      },
      "source": [
        "X1 = df_test[cols_to_use] # Must be the same columns as the training data otherwise it wont work. If you want to experiment with different columns always change the training ones first and then those here.\n",
        "y1 = df_test['left']\n",
        " \n",
        "# Scoring\n",
        "print(\"Score: \",logreg.score(X1, y1)) # Make sure you use the testing data, not training (X_test, y_test)\n",
        "y_pred = logreg.predict(X_test)\n",
        "print(\"Logistic Regression Prediction: \",y_pred)"
      ],
      "execution_count": 24,
      "outputs": [
        {
          "output_type": "stream",
          "text": [
            "Score:  0.65\n",
            "Logistic Regression Prediction:  [1 0 0 ... 0 0 0]\n"
          ],
          "name": "stdout"
        }
      ]
    },
    {
      "cell_type": "markdown",
      "metadata": {
        "id": "NXMIwDJA0KmW",
        "colab_type": "text"
      },
      "source": [
        "# Desicion Tree"
      ]
    },
    {
      "cell_type": "code",
      "metadata": {
        "id": "Thf2FNS7GyYm",
        "colab_type": "code",
        "outputId": "9fbe3cb9-cac7-4926-cc24-8b1f3b61ba29",
        "colab": {
          "base_uri": "https://localhost:8080/",
          "height": 54
        }
      },
      "source": [
        " tree = DecisionTreeClassifier() # Make sure you don't use the same name as before\n",
        "#Training\n",
        "tree.fit(X_train, y_train) # Use traning data, not testing\n",
        "# Score\n",
        "print(\"Score: \",tree.score(X1, y1)) # Score on the testing data\n",
        "y_pred_tree = tree.predict(X_test)\n",
        "print(\"Desicion Tree Prediction: \", y_pred_tree)"
      ],
      "execution_count": 25,
      "outputs": [
        {
          "output_type": "stream",
          "text": [
            "Score:  0.984\n",
            "Desicion Tree Prediction:  [0 0 0 ... 1 0 0]\n"
          ],
          "name": "stdout"
        }
      ]
    },
    {
      "cell_type": "markdown",
      "metadata": {
        "id": "goikvHkV2jCx",
        "colab_type": "text"
      },
      "source": [
        "# Visualize relationship between features and target using scatterplot"
      ]
    },
    {
      "cell_type": "code",
      "metadata": {
        "id": "ShRa0U200bHv",
        "colab_type": "code",
        "outputId": "bcf78011-ad09-403a-a944-8028d0749a1c",
        "colab": {
          "base_uri": "https://localhost:8080/",
          "height": 551
        }
      },
      "source": [
        "sns.pairplot(df, x_vars=cols_to_use, y_vars=\"left\",height=7, aspect=0.7, kind=\"reg\")\n",
        "plt.show()"
      ],
      "execution_count": 26,
      "outputs": [
        {
          "output_type": "display_data",
          "data": {
            "image/png": "[encoded data removed]",
            "text/plain": [
              "<Figure size 3175.2x504 with 9 Axes>"
            ]
          },
          "metadata": {
            "tags": []
          }
        }
      ]
    },
    {
      "cell_type": "code",
      "metadata": {
        "id": "ugJmQt0m2PNl",
        "colab_type": "code",
        "outputId": "05d33c7e-3f1e-4407-a374-f3758dd7612c",
        "colab": {
          "base_uri": "https://localhost:8080/",
          "height": 112
        }
      },
      "source": [
        "lin_weights = list(zip(cols_to_use, logreg.coef_))\n",
        "lin_weights = pd.DataFrame(lin_weights)\n",
        "lin_weights.columns = ['Feature', 'Weight']\n",
        "lin_weights.set_index('Feature', inplace=True)\n",
        "lin_weights.sort_values(by='Weight', inplace=True)\n",
        "lin_weights"
      ],
      "execution_count": 27,
      "outputs": [
        {
          "output_type": "execute_result",
          "data": {
            "text/html": [
              "<div>\n",
              "<style scoped>\n",
              "    .dataframe tbody tr th:only-of-type {\n",
              "        vertical-align: middle;\n",
              "    }\n",
              "\n",
              "    .dataframe tbody tr th {\n",
              "        vertical-align: top;\n",
              "    }\n",
              "\n",
              "    .dataframe thead th {\n",
              "        text-align: right;\n",
              "    }\n",
              "</style>\n",
              "<table border=\"1\" class=\"dataframe\">\n",
              "  <thead>\n",
              "    <tr style=\"text-align: right;\">\n",
              "      <th></th>\n",
              "      <th>Weight</th>\n",
              "    </tr>\n",
              "    <tr>\n",
              "      <th>Feature</th>\n",
              "      <th></th>\n",
              "    </tr>\n",
              "  </thead>\n",
              "  <tbody>\n",
              "    <tr>\n",
              "      <th>Department</th>\n",
              "      <td>[-0.03459414858054237, -1.5854902371478568, 0....</td>\n",
              "    </tr>\n",
              "  </tbody>\n",
              "</table>\n",
              "</div>"
            ],
            "text/plain": [
              "                                                       Weight\n",
              "Feature                                                      \n",
              "Department  [-0.03459414858054237, -1.5854902371478568, 0...."
            ]
          },
          "metadata": {
            "tags": []
          },
          "execution_count": 27
        }
      ]
    },
    {
      "cell_type": "markdown",
      "metadata": {
        "id": "y6my4t_lNMCH",
        "colab_type": "text"
      },
      "source": [
        "# comparing different models"
      ]
    },
    {
      "cell_type": "code",
      "metadata": {
        "id": "3roGuWWP3DTH",
        "colab_type": "code",
        "colab": {}
      },
      "source": [
        "# prepare configuration for cross validation test harness\n",
        "seed = 7\n",
        "# prepare models\n",
        "models = []\n",
        "models.append(('LR', LogisticRegression(max_iter=1000)))\n",
        "models.append(('LDA', LinearDiscriminantAnalysis()))\n",
        "models.append(('KNN', KNeighborsClassifier()))\n",
        "models.append(('CART', DecisionTreeClassifier()))\n",
        "models.append(('NB', GaussianNB()))\n",
        "models.append(('SVM', SVC()))"
      ],
      "execution_count": 0,
      "outputs": []
    },
    {
      "cell_type": "code",
      "metadata": {
        "id": "_gy1X07dNYwi",
        "colab_type": "code",
        "colab": {
          "base_uri": "https://localhost:8080/",
          "height": 495
        },
        "outputId": "d8e1f1e6-82fd-4036-ccc5-6d63f0d82e95"
      },
      "source": [
        "models"
      ],
      "execution_count": 34,
      "outputs": [
        {
          "output_type": "execute_result",
          "data": {
            "text/plain": [
              "[('LR',\n",
              "  LogisticRegression(C=1.0, class_weight=None, dual=False, fit_intercept=True,\n",
              "                     intercept_scaling=1, l1_ratio=None, max_iter=1000,\n",
              "                     multi_class='auto', n_jobs=None, penalty='l2',\n",
              "                     random_state=None, solver='lbfgs', tol=0.0001, verbose=0,\n",
              "                     warm_start=False)),\n",
              " ('LDA',\n",
              "  LinearDiscriminantAnalysis(n_components=None, priors=None, shrinkage=None,\n",
              "                             solver='svd', store_covariance=False, tol=0.0001)),\n",
              " ('KNN',\n",
              "  KNeighborsClassifier(algorithm='auto', leaf_size=30, metric='minkowski',\n",
              "                       metric_params=None, n_jobs=None, n_neighbors=5, p=2,\n",
              "                       weights='uniform')),\n",
              " ('CART',\n",
              "  DecisionTreeClassifier(ccp_alpha=0.0, class_weight=None, criterion='gini',\n",
              "                         max_depth=None, max_features=None, max_leaf_nodes=None,\n",
              "                         min_impurity_decrease=0.0, min_impurity_split=None,\n",
              "                         min_samples_leaf=1, min_samples_split=2,\n",
              "                         min_weight_fraction_leaf=0.0, presort='deprecated',\n",
              "                         random_state=None, splitter='best')),\n",
              " ('NB', GaussianNB(priors=None, var_smoothing=1e-09)),\n",
              " ('SVM',\n",
              "  SVC(C=1.0, break_ties=False, cache_size=200, class_weight=None, coef0=0.0,\n",
              "      decision_function_shape='ovr', degree=3, gamma='scale', kernel='rbf',\n",
              "      max_iter=-1, probability=False, random_state=None, shrinking=True,\n",
              "      tol=0.001, verbose=False))]"
            ]
          },
          "metadata": {
            "tags": []
          },
          "execution_count": 34
        }
      ]
    },
    {
      "cell_type": "code",
      "metadata": {
        "id": "ZXI28HnGNaBL",
        "colab_type": "code",
        "colab": {
          "base_uri": "https://localhost:8080/",
          "height": 127
        },
        "outputId": "d5d1b842-7826-4f9b-8262-5170b97d93f6"
      },
      "source": [
        "# evaluate each model in turn\n",
        "results = []\n",
        "names = []\n",
        "scoring = 'accuracy'\n",
        "for name, model in models:\n",
        "\tkfold = model_selection.KFold(n_splits=10, random_state=seed, shuffle=True)\n",
        "\tcv_results = model_selection.cross_val_score(model, X_test, y_test, cv=kfold, scoring=scoring)\n",
        "\tresults.append(cv_results)\n",
        "\tnames.append(name)\n",
        "\tmsg = \"%s: %f (%f)\" % (name, cv_results.mean(), cv_results.std())\n",
        "\tprint(msg)"
      ],
      "execution_count": 102,
      "outputs": [
        {
          "output_type": "stream",
          "text": [
            "LR: 0.796000 (0.020983)\n",
            "LDA: 0.783556 (0.027038)\n",
            "KNN: 0.900444 (0.022853)\n",
            "CART: 0.966667 (0.012131)\n",
            "NB: 0.716444 (0.117468)\n",
            "SVM: 0.768889 (0.022922)\n"
          ],
          "name": "stdout"
        }
      ]
    },
    {
      "cell_type": "code",
      "metadata": {
        "id": "7LbyXYPFOLU5",
        "colab_type": "code",
        "colab": {
          "base_uri": "https://localhost:8080/",
          "height": 787
        },
        "outputId": "9d6fa195-0ec8-43d3-ef8b-8308880760de"
      },
      "source": [
        "# boxplot algorithm comparison\n",
        "fig = plt.figure(figsize=(10,12))\n",
        "fig.suptitle('Algorithm Comparison')\n",
        "ax = fig.add_subplot(111)\n",
        "plt.boxplot(results)\n",
        "ax.set_xticklabels(names)\n",
        "plt.show()"
      ],
      "execution_count": 103,
      "outputs": [
        {
          "output_type": "display_data",
          "data": {
            "image/png": "[encoded data removed]",
            "text/plain": [
              "<Figure size 720x864 with 1 Axes>"
            ]
          },
          "metadata": {
            "tags": []
          }
        }
      ]
    },
    {
      "cell_type": "markdown",
      "metadata": {
        "id": "eYXQBqPtS5Sm",
        "colab_type": "text"
      },
      "source": [
        "# comparing models with a different fuction"
      ]
    },
    {
      "cell_type": "code",
      "metadata": {
        "id": "oLBDjDtPO6mT",
        "colab_type": "code",
        "colab": {
          "base_uri": "https://localhost:8080/",
          "height": 81
        },
        "outputId": "c37a18b5-202a-4bb6-d566-88ee98da022d"
      },
      "source": [
        "lab_enc = preprocessing.LabelEncoder()\n",
        "y_encoded = lab_enc.fit_transform(y_train)\n",
        "\n",
        "def find_best_model(X,y):\n",
        "  algos = {'linear_regression' : {'model': LinearRegression(),'params': {'normalize': [True, False]}},'lasso': {'model': Lasso(),'params': {'alpha': [1,2],'selection': ['random', 'cyclic']}},'decision_tree': {'model': DecisionTreeRegressor(),'params': {'criterion' : ['mse','friedman_mse'],'splitter': ['best','random']}},'svm' : {'model': svm.SVC(),'params': {'kernel': ['poly', 'rbf']}}  }\n",
        "  scores = []\n",
        "  \n",
        "  for algo_name, config in algos.items():\n",
        "    gs =  GridSearchCV(config['model'], config['params'], return_train_score=False)\n",
        "    gs.fit(X,y_encoded)\n",
        "    scores.append({'model': algo_name,'best_score': gs.best_score_,'best_params': gs.best_params_})   \n",
        "    return pd.DataFrame(scores,columns=['model','best_score','best_params'])\n",
        "\n",
        "\n",
        "find_best_model(X_train,y_train)"
      ],
      "execution_count": 104,
      "outputs": [
        {
          "output_type": "execute_result",
          "data": {
            "text/html": [
              "<div>\n",
              "<style scoped>\n",
              "    .dataframe tbody tr th:only-of-type {\n",
              "        vertical-align: middle;\n",
              "    }\n",
              "\n",
              "    .dataframe tbody tr th {\n",
              "        vertical-align: top;\n",
              "    }\n",
              "\n",
              "    .dataframe thead th {\n",
              "        text-align: right;\n",
              "    }\n",
              "</style>\n",
              "<table border=\"1\" class=\"dataframe\">\n",
              "  <thead>\n",
              "    <tr style=\"text-align: right;\">\n",
              "      <th></th>\n",
              "      <th>model</th>\n",
              "      <th>best_score</th>\n",
              "      <th>best_params</th>\n",
              "    </tr>\n",
              "  </thead>\n",
              "  <tbody>\n",
              "    <tr>\n",
              "      <th>0</th>\n",
              "      <td>linear_regression</td>\n",
              "      <td>0.210262</td>\n",
              "      <td>{'normalize': False}</td>\n",
              "    </tr>\n",
              "  </tbody>\n",
              "</table>\n",
              "</div>"
            ],
            "text/plain": [
              "               model  best_score           best_params\n",
              "0  linear_regression    0.210262  {'normalize': False}"
            ]
          },
          "metadata": {
            "tags": []
          },
          "execution_count": 104
        }
      ]
    },
    {
      "cell_type": "code",
      "metadata": {
        "id": "ELob6ZQZVroM",
        "colab_type": "code",
        "colab": {}
      },
      "source": [
        ""
      ],
      "execution_count": 0,
      "outputs": []
    }
  ]
}